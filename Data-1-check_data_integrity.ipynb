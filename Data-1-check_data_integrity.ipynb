{
 "cells": [
  {
   "cell_type": "code",
   "execution_count": 1,
   "metadata": {
    "execution": {
     "iopub.execute_input": "2020-12-05T15:25:00.855385Z",
     "iopub.status.busy": "2020-12-05T15:25:00.854615Z",
     "iopub.status.idle": "2020-12-05T15:25:01.838013Z",
     "shell.execute_reply": "2020-12-05T15:25:01.837142Z"
    },
    "papermill": {
     "duration": 1.202849,
     "end_time": "2020-12-05T15:25:01.838164",
     "exception": false,
     "start_time": "2020-12-05T15:25:00.635315",
     "status": "completed"
    },
    "tags": []
   },
   "outputs": [
    {
     "name": "stderr",
     "output_type": "stream",
     "text": [
      "c:\\Users\\sraja\\Miniconda3\\lib\\site-packages\\numpy\\_distributor_init.py:30: UserWarning: loaded more than 1 DLL from .libs:\n",
      "c:\\Users\\sraja\\Miniconda3\\lib\\site-packages\\numpy\\.libs\\libopenblas.EL2C6PLE4ZYW3ECEVIV3OXXGRN2NRFM2.gfortran-win_amd64.dll\n",
      "c:\\Users\\sraja\\Miniconda3\\lib\\site-packages\\numpy\\.libs\\libopenblas.XWYDX2IKJW2NMTWSFYNGFUWKQU3LYTCZ.gfortran-win_amd64.dll\n",
      "  warnings.warn(\"loaded more than 1 DLL from .libs:\"\n"
     ]
    }
   ],
   "source": [
    "import numpy as np\n",
    "import pandas as pd\n",
    "\n",
    "import matplotlib.pyplot as plt\n",
    "import seaborn as sns"
   ]
  },
  {
   "cell_type": "code",
   "execution_count": 20,
   "metadata": {
    "execution": {
     "iopub.execute_input": "2020-12-05T15:25:02.687233Z",
     "iopub.status.busy": "2020-12-05T15:25:02.686363Z",
     "iopub.status.idle": "2020-12-05T15:25:04.362877Z",
     "shell.execute_reply": "2020-12-05T15:25:04.363560Z"
    },
    "papermill": {
     "duration": 1.892098,
     "end_time": "2020-12-05T15:25:04.363734",
     "exception": false,
     "start_time": "2020-12-05T15:25:02.471636",
     "status": "completed"
    },
    "tags": []
   },
   "outputs": [],
   "source": [
    "df = pd.read_csv(\"data_incoming\\Data_Incoming.csv\")\n",
    "\n",
    "df_data_dict = pd.read_csv(\"data_incoming\\Data_Dict.csv\")"
   ]
  },
  {
   "cell_type": "code",
   "execution_count": 21,
   "metadata": {},
   "outputs": [
    {
     "data": {
      "text/html": [
       "<div>\n",
       "<style scoped>\n",
       "    .dataframe tbody tr th:only-of-type {\n",
       "        vertical-align: middle;\n",
       "    }\n",
       "\n",
       "    .dataframe tbody tr th {\n",
       "        vertical-align: top;\n",
       "    }\n",
       "\n",
       "    .dataframe thead th {\n",
       "        text-align: right;\n",
       "    }\n",
       "</style>\n",
       "<table border=\"1\" class=\"dataframe\">\n",
       "  <thead>\n",
       "    <tr style=\"text-align: right;\">\n",
       "      <th></th>\n",
       "      <th>Variable Names</th>\n",
       "      <th>Variable Description</th>\n",
       "    </tr>\n",
       "  </thead>\n",
       "  <tbody>\n",
       "    <tr>\n",
       "      <th>0</th>\n",
       "      <td>Row.ID</td>\n",
       "      <td>Row ID</td>\n",
       "    </tr>\n",
       "    <tr>\n",
       "      <th>1</th>\n",
       "      <td>Order.ID</td>\n",
       "      <td>Order ID</td>\n",
       "    </tr>\n",
       "    <tr>\n",
       "      <th>2</th>\n",
       "      <td>Customer.Name</td>\n",
       "      <td>Name of the Customer</td>\n",
       "    </tr>\n",
       "    <tr>\n",
       "      <th>3</th>\n",
       "      <td>Order.Date</td>\n",
       "      <td>Date when order was placed</td>\n",
       "    </tr>\n",
       "    <tr>\n",
       "      <th>4</th>\n",
       "      <td>Order.Priority</td>\n",
       "      <td>Priority of the order for delivery</td>\n",
       "    </tr>\n",
       "    <tr>\n",
       "      <th>5</th>\n",
       "      <td>Order.Quantity</td>\n",
       "      <td>Quantity of product ordered</td>\n",
       "    </tr>\n",
       "    <tr>\n",
       "      <th>6</th>\n",
       "      <td>Sales</td>\n",
       "      <td>Total Sales amount for an order</td>\n",
       "    </tr>\n",
       "    <tr>\n",
       "      <th>7</th>\n",
       "      <td>Discount</td>\n",
       "      <td>Discount given on a particular order</td>\n",
       "    </tr>\n",
       "    <tr>\n",
       "      <th>8</th>\n",
       "      <td>Ship.Mode</td>\n",
       "      <td>Mode of Shipping</td>\n",
       "    </tr>\n",
       "    <tr>\n",
       "      <th>9</th>\n",
       "      <td>Profit</td>\n",
       "      <td>Profit margin in an order</td>\n",
       "    </tr>\n",
       "    <tr>\n",
       "      <th>10</th>\n",
       "      <td>Unit.Price</td>\n",
       "      <td>Unit price of the product</td>\n",
       "    </tr>\n",
       "    <tr>\n",
       "      <th>11</th>\n",
       "      <td>Shipping.Cost</td>\n",
       "      <td>Total shipping cost for an order</td>\n",
       "    </tr>\n",
       "    <tr>\n",
       "      <th>12</th>\n",
       "      <td>Region</td>\n",
       "      <td>Region where the order is to be delivered</td>\n",
       "    </tr>\n",
       "    <tr>\n",
       "      <th>13</th>\n",
       "      <td>Customer.Segment</td>\n",
       "      <td>Customer Segments</td>\n",
       "    </tr>\n",
       "    <tr>\n",
       "      <th>14</th>\n",
       "      <td>Product.Category</td>\n",
       "      <td>Product Category</td>\n",
       "    </tr>\n",
       "    <tr>\n",
       "      <th>15</th>\n",
       "      <td>Product.Container</td>\n",
       "      <td>Container type in which the order is delivered</td>\n",
       "    </tr>\n",
       "    <tr>\n",
       "      <th>16</th>\n",
       "      <td>Product.Base.Margin</td>\n",
       "      <td>Margin on a product</td>\n",
       "    </tr>\n",
       "    <tr>\n",
       "      <th>17</th>\n",
       "      <td>Ship.Date</td>\n",
       "      <td>Date when order was shipped</td>\n",
       "    </tr>\n",
       "    <tr>\n",
       "      <th>18</th>\n",
       "      <td>Return.Status</td>\n",
       "      <td>1: Product was returned; 0: Product was not re...</td>\n",
       "    </tr>\n",
       "  </tbody>\n",
       "</table>\n",
       "</div>"
      ],
      "text/plain": [
       "         Variable Names                               Variable Description\n",
       "0                Row.ID                                             Row ID\n",
       "1              Order.ID                                           Order ID\n",
       "2         Customer.Name                               Name of the Customer\n",
       "3            Order.Date                         Date when order was placed\n",
       "4        Order.Priority                 Priority of the order for delivery\n",
       "5        Order.Quantity                        Quantity of product ordered\n",
       "6                 Sales                    Total Sales amount for an order\n",
       "7              Discount               Discount given on a particular order\n",
       "8             Ship.Mode                                   Mode of Shipping\n",
       "9                Profit                          Profit margin in an order\n",
       "10           Unit.Price                          Unit price of the product\n",
       "11        Shipping.Cost                   Total shipping cost for an order\n",
       "12               Region          Region where the order is to be delivered\n",
       "13     Customer.Segment                                  Customer Segments\n",
       "14     Product.Category                                  Product Category \n",
       "15    Product.Container     Container type in which the order is delivered\n",
       "16  Product.Base.Margin                                Margin on a product\n",
       "17            Ship.Date                        Date when order was shipped\n",
       "18        Return.Status  1: Product was returned; 0: Product was not re..."
      ]
     },
     "execution_count": 21,
     "metadata": {},
     "output_type": "execute_result"
    }
   ],
   "source": [
    "df_data_dict"
   ]
  },
  {
   "attachments": {},
   "cell_type": "markdown",
   "metadata": {},
   "source": [
    "Re-ordering columns for readability , based on type and context "
   ]
  },
  {
   "cell_type": "code",
   "execution_count": 22,
   "metadata": {},
   "outputs": [],
   "source": [
    "df = df[[\n",
    " 'Row.ID',\n",
    " 'Order.ID',\n",
    " 'Order.Date',\n",
    " 'Ship.Date',\n",
    "\n",
    " 'Order.Quantity',\n",
    " 'Sales',\n",
    " 'Discount',\n",
    " 'Profit',\n",
    " 'Unit.Price',\n",
    " 'Shipping.Cost',\n",
    " 'Product.Base.Margin',\n",
    "\n",
    " 'Customer.Name',\n",
    " 'Customer.Segment',\n",
    " 'Product.Category',\n",
    " 'Region',\n",
    " 'Order.Priority',\n",
    " 'Ship.Mode',\n",
    " 'Product.Container',\n",
    " \n",
    " 'Return.Status'\n",
    " \n",
    " ]]"
   ]
  },
  {
   "cell_type": "code",
   "execution_count": 23,
   "metadata": {
    "execution": {
     "iopub.execute_input": "2020-12-05T15:25:04.809937Z",
     "iopub.status.busy": "2020-12-05T15:25:04.807982Z",
     "iopub.status.idle": "2020-12-05T15:25:04.828901Z",
     "shell.execute_reply": "2020-12-05T15:25:04.829551Z"
    },
    "papermill": {
     "duration": 0.257171,
     "end_time": "2020-12-05T15:25:04.829707",
     "exception": false,
     "start_time": "2020-12-05T15:25:04.572536",
     "status": "completed"
    },
    "tags": []
   },
   "outputs": [
    {
     "data": {
      "text/html": [
       "<div>\n",
       "<style scoped>\n",
       "    .dataframe tbody tr th:only-of-type {\n",
       "        vertical-align: middle;\n",
       "    }\n",
       "\n",
       "    .dataframe tbody tr th {\n",
       "        vertical-align: top;\n",
       "    }\n",
       "\n",
       "    .dataframe thead th {\n",
       "        text-align: right;\n",
       "    }\n",
       "</style>\n",
       "<table border=\"1\" class=\"dataframe\">\n",
       "  <thead>\n",
       "    <tr style=\"text-align: right;\">\n",
       "      <th></th>\n",
       "      <th>Row.ID</th>\n",
       "      <th>Order.ID</th>\n",
       "      <th>Order.Date</th>\n",
       "      <th>Ship.Date</th>\n",
       "      <th>Order.Quantity</th>\n",
       "      <th>Sales</th>\n",
       "      <th>Discount</th>\n",
       "      <th>Profit</th>\n",
       "      <th>Unit.Price</th>\n",
       "      <th>Shipping.Cost</th>\n",
       "      <th>Product.Base.Margin</th>\n",
       "      <th>Customer.Name</th>\n",
       "      <th>Customer.Segment</th>\n",
       "      <th>Product.Category</th>\n",
       "      <th>Region</th>\n",
       "      <th>Order.Priority</th>\n",
       "      <th>Ship.Mode</th>\n",
       "      <th>Product.Container</th>\n",
       "      <th>Return.Status</th>\n",
       "    </tr>\n",
       "  </thead>\n",
       "  <tbody>\n",
       "    <tr>\n",
       "      <th>0</th>\n",
       "      <td>1</td>\n",
       "      <td>3</td>\n",
       "      <td>13-10-2010</td>\n",
       "      <td>20-10-2010</td>\n",
       "      <td>6</td>\n",
       "      <td>261.5400</td>\n",
       "      <td>0.04</td>\n",
       "      <td>-213.25</td>\n",
       "      <td>38.94</td>\n",
       "      <td>35.00</td>\n",
       "      <td>0.80</td>\n",
       "      <td>Muhammed MacIntyre</td>\n",
       "      <td>Small Business</td>\n",
       "      <td>Office Supplies</td>\n",
       "      <td>Nunavut</td>\n",
       "      <td>Low</td>\n",
       "      <td>Regular Air</td>\n",
       "      <td>Large Box</td>\n",
       "      <td>0</td>\n",
       "    </tr>\n",
       "    <tr>\n",
       "      <th>1</th>\n",
       "      <td>2</td>\n",
       "      <td>293</td>\n",
       "      <td>01-10-2012</td>\n",
       "      <td>02-10-2012</td>\n",
       "      <td>49</td>\n",
       "      <td>10123.0200</td>\n",
       "      <td>0.07</td>\n",
       "      <td>457.81</td>\n",
       "      <td>208.16</td>\n",
       "      <td>68.02</td>\n",
       "      <td>0.58</td>\n",
       "      <td>Barry French</td>\n",
       "      <td>Consumer</td>\n",
       "      <td>Office Supplies</td>\n",
       "      <td>Nunavut</td>\n",
       "      <td>High</td>\n",
       "      <td>Delivery Truck</td>\n",
       "      <td>Jumbo Drum</td>\n",
       "      <td>0</td>\n",
       "    </tr>\n",
       "    <tr>\n",
       "      <th>2</th>\n",
       "      <td>3</td>\n",
       "      <td>483</td>\n",
       "      <td>10-07-2011</td>\n",
       "      <td>12-07-2011</td>\n",
       "      <td>30</td>\n",
       "      <td>4965.7595</td>\n",
       "      <td>0.08</td>\n",
       "      <td>1198.97</td>\n",
       "      <td>195.99</td>\n",
       "      <td>3.99</td>\n",
       "      <td>0.58</td>\n",
       "      <td>Clay Rozendal</td>\n",
       "      <td>Corporate</td>\n",
       "      <td>Technology</td>\n",
       "      <td>Nunavut</td>\n",
       "      <td>High</td>\n",
       "      <td>Regular Air</td>\n",
       "      <td>Small Box</td>\n",
       "      <td>0</td>\n",
       "    </tr>\n",
       "    <tr>\n",
       "      <th>3</th>\n",
       "      <td>4</td>\n",
       "      <td>515</td>\n",
       "      <td>28-08-2010</td>\n",
       "      <td>30-08-2010</td>\n",
       "      <td>19</td>\n",
       "      <td>394.2700</td>\n",
       "      <td>0.08</td>\n",
       "      <td>30.94</td>\n",
       "      <td>21.78</td>\n",
       "      <td>5.94</td>\n",
       "      <td>0.50</td>\n",
       "      <td>Carlos Soltero</td>\n",
       "      <td>Consumer</td>\n",
       "      <td>Office Supplies</td>\n",
       "      <td>Nunavut</td>\n",
       "      <td>Not Specified</td>\n",
       "      <td>Regular Air</td>\n",
       "      <td>Medium Box</td>\n",
       "      <td>0</td>\n",
       "    </tr>\n",
       "    <tr>\n",
       "      <th>4</th>\n",
       "      <td>5</td>\n",
       "      <td>613</td>\n",
       "      <td>17-06-2011</td>\n",
       "      <td>17-06-2011</td>\n",
       "      <td>12</td>\n",
       "      <td>93.5400</td>\n",
       "      <td>0.03</td>\n",
       "      <td>-54.04</td>\n",
       "      <td>7.30</td>\n",
       "      <td>7.72</td>\n",
       "      <td>0.38</td>\n",
       "      <td>Carl Jackson</td>\n",
       "      <td>Corporate</td>\n",
       "      <td>Office Supplies</td>\n",
       "      <td>Nunavut</td>\n",
       "      <td>High</td>\n",
       "      <td>Regular Air</td>\n",
       "      <td>Small Box</td>\n",
       "      <td>0</td>\n",
       "    </tr>\n",
       "  </tbody>\n",
       "</table>\n",
       "</div>"
      ],
      "text/plain": [
       "   Row.ID  Order.ID  Order.Date   Ship.Date  Order.Quantity       Sales  \\\n",
       "0       1         3  13-10-2010  20-10-2010               6    261.5400   \n",
       "1       2       293  01-10-2012  02-10-2012              49  10123.0200   \n",
       "2       3       483  10-07-2011  12-07-2011              30   4965.7595   \n",
       "3       4       515  28-08-2010  30-08-2010              19    394.2700   \n",
       "4       5       613  17-06-2011  17-06-2011              12     93.5400   \n",
       "\n",
       "   Discount   Profit  Unit.Price  Shipping.Cost  Product.Base.Margin  \\\n",
       "0      0.04  -213.25       38.94          35.00                 0.80   \n",
       "1      0.07   457.81      208.16          68.02                 0.58   \n",
       "2      0.08  1198.97      195.99           3.99                 0.58   \n",
       "3      0.08    30.94       21.78           5.94                 0.50   \n",
       "4      0.03   -54.04        7.30           7.72                 0.38   \n",
       "\n",
       "        Customer.Name Customer.Segment Product.Category   Region  \\\n",
       "0  Muhammed MacIntyre   Small Business  Office Supplies  Nunavut   \n",
       "1        Barry French         Consumer  Office Supplies  Nunavut   \n",
       "2       Clay Rozendal        Corporate       Technology  Nunavut   \n",
       "3      Carlos Soltero         Consumer  Office Supplies  Nunavut   \n",
       "4        Carl Jackson        Corporate  Office Supplies  Nunavut   \n",
       "\n",
       "  Order.Priority       Ship.Mode Product.Container  Return.Status  \n",
       "0            Low     Regular Air         Large Box              0  \n",
       "1           High  Delivery Truck        Jumbo Drum              0  \n",
       "2           High     Regular Air         Small Box              0  \n",
       "3  Not Specified     Regular Air        Medium Box              0  \n",
       "4           High     Regular Air         Small Box              0  "
      ]
     },
     "execution_count": 23,
     "metadata": {},
     "output_type": "execute_result"
    }
   ],
   "source": [
    "df.head()"
   ]
  },
  {
   "cell_type": "code",
   "execution_count": 24,
   "metadata": {},
   "outputs": [
    {
     "data": {
      "text/plain": [
       "0       13-10-2010\n",
       "1       01-10-2012\n",
       "2       10-07-2011\n",
       "3       28-08-2010\n",
       "4       17-06-2011\n",
       "           ...    \n",
       "5491    08-10-2010\n",
       "5492    09-07-2012\n",
       "5493    30-07-2011\n",
       "5494    09-08-2010\n",
       "5495    08-02-2009\n",
       "Name: Order.Date, Length: 5496, dtype: object"
      ]
     },
     "execution_count": 24,
     "metadata": {},
     "output_type": "execute_result"
    }
   ],
   "source": [
    "df['Order.Date']"
   ]
  },
  {
   "cell_type": "code",
   "execution_count": 6,
   "metadata": {
    "execution": {
     "iopub.execute_input": "2020-12-05T15:25:05.262200Z",
     "iopub.status.busy": "2020-12-05T15:25:05.261309Z",
     "iopub.status.idle": "2020-12-05T15:25:05.284270Z",
     "shell.execute_reply": "2020-12-05T15:25:05.283637Z"
    },
    "papermill": {
     "duration": 0.241853,
     "end_time": "2020-12-05T15:25:05.284411",
     "exception": false,
     "start_time": "2020-12-05T15:25:05.042558",
     "status": "completed"
    },
    "tags": []
   },
   "outputs": [
    {
     "data": {
      "text/html": [
       "<div>\n",
       "<style scoped>\n",
       "    .dataframe tbody tr th:only-of-type {\n",
       "        vertical-align: middle;\n",
       "    }\n",
       "\n",
       "    .dataframe tbody tr th {\n",
       "        vertical-align: top;\n",
       "    }\n",
       "\n",
       "    .dataframe thead th {\n",
       "        text-align: right;\n",
       "    }\n",
       "</style>\n",
       "<table border=\"1\" class=\"dataframe\">\n",
       "  <thead>\n",
       "    <tr style=\"text-align: right;\">\n",
       "      <th></th>\n",
       "      <th>Row.ID</th>\n",
       "      <th>Order.ID</th>\n",
       "      <th>Order.Quantity</th>\n",
       "      <th>Sales</th>\n",
       "      <th>Discount</th>\n",
       "      <th>Profit</th>\n",
       "      <th>Unit.Price</th>\n",
       "      <th>Shipping.Cost</th>\n",
       "      <th>Product.Base.Margin</th>\n",
       "      <th>Return.Status</th>\n",
       "    </tr>\n",
       "  </thead>\n",
       "  <tbody>\n",
       "    <tr>\n",
       "      <th>count</th>\n",
       "      <td>5496.000000</td>\n",
       "      <td>5496.000000</td>\n",
       "      <td>5496.000000</td>\n",
       "      <td>5496.000000</td>\n",
       "      <td>5496.000000</td>\n",
       "      <td>5496.000000</td>\n",
       "      <td>5496.000000</td>\n",
       "      <td>5496.000000</td>\n",
       "      <td>5496.000000</td>\n",
       "      <td>5496.000000</td>\n",
       "    </tr>\n",
       "    <tr>\n",
       "      <th>mean</th>\n",
       "      <td>2748.500000</td>\n",
       "      <td>29967.985262</td>\n",
       "      <td>25.517649</td>\n",
       "      <td>1763.818347</td>\n",
       "      <td>0.049905</td>\n",
       "      <td>200.483017</td>\n",
       "      <td>86.371683</td>\n",
       "      <td>12.789511</td>\n",
       "      <td>0.502640</td>\n",
       "      <td>0.104076</td>\n",
       "    </tr>\n",
       "    <tr>\n",
       "      <th>std</th>\n",
       "      <td>1586.702871</td>\n",
       "      <td>17247.419790</td>\n",
       "      <td>14.480022</td>\n",
       "      <td>3645.735913</td>\n",
       "      <td>0.031785</td>\n",
       "      <td>1201.403204</td>\n",
       "      <td>274.638722</td>\n",
       "      <td>16.836484</td>\n",
       "      <td>0.133056</td>\n",
       "      <td>0.305386</td>\n",
       "    </tr>\n",
       "    <tr>\n",
       "      <th>min</th>\n",
       "      <td>1.000000</td>\n",
       "      <td>3.000000</td>\n",
       "      <td>1.000000</td>\n",
       "      <td>3.230000</td>\n",
       "      <td>0.000000</td>\n",
       "      <td>-14140.700000</td>\n",
       "      <td>0.990000</td>\n",
       "      <td>0.490000</td>\n",
       "      <td>0.240000</td>\n",
       "      <td>0.000000</td>\n",
       "    </tr>\n",
       "    <tr>\n",
       "      <th>25%</th>\n",
       "      <td>1374.750000</td>\n",
       "      <td>15043.000000</td>\n",
       "      <td>13.000000</td>\n",
       "      <td>141.367500</td>\n",
       "      <td>0.020000</td>\n",
       "      <td>-82.162500</td>\n",
       "      <td>6.480000</td>\n",
       "      <td>3.352500</td>\n",
       "      <td>0.380000</td>\n",
       "      <td>0.000000</td>\n",
       "    </tr>\n",
       "    <tr>\n",
       "      <th>50%</th>\n",
       "      <td>2748.500000</td>\n",
       "      <td>29926.500000</td>\n",
       "      <td>26.000000</td>\n",
       "      <td>428.021500</td>\n",
       "      <td>0.050000</td>\n",
       "      <td>-0.945000</td>\n",
       "      <td>20.970000</td>\n",
       "      <td>6.070000</td>\n",
       "      <td>0.490000</td>\n",
       "      <td>0.000000</td>\n",
       "    </tr>\n",
       "    <tr>\n",
       "      <th>75%</th>\n",
       "      <td>4122.250000</td>\n",
       "      <td>44654.750000</td>\n",
       "      <td>38.000000</td>\n",
       "      <td>1648.850250</td>\n",
       "      <td>0.080000</td>\n",
       "      <td>163.390000</td>\n",
       "      <td>83.100000</td>\n",
       "      <td>14.000000</td>\n",
       "      <td>0.590000</td>\n",
       "      <td>0.000000</td>\n",
       "    </tr>\n",
       "    <tr>\n",
       "      <th>max</th>\n",
       "      <td>5496.000000</td>\n",
       "      <td>59973.000000</td>\n",
       "      <td>50.000000</td>\n",
       "      <td>89061.050000</td>\n",
       "      <td>0.170000</td>\n",
       "      <td>27220.690000</td>\n",
       "      <td>6783.020000</td>\n",
       "      <td>164.730000</td>\n",
       "      <td>0.850000</td>\n",
       "      <td>1.000000</td>\n",
       "    </tr>\n",
       "  </tbody>\n",
       "</table>\n",
       "</div>"
      ],
      "text/plain": [
       "            Row.ID      Order.ID  Order.Quantity         Sales     Discount  \\\n",
       "count  5496.000000   5496.000000     5496.000000   5496.000000  5496.000000   \n",
       "mean   2748.500000  29967.985262       25.517649   1763.818347     0.049905   \n",
       "std    1586.702871  17247.419790       14.480022   3645.735913     0.031785   \n",
       "min       1.000000      3.000000        1.000000      3.230000     0.000000   \n",
       "25%    1374.750000  15043.000000       13.000000    141.367500     0.020000   \n",
       "50%    2748.500000  29926.500000       26.000000    428.021500     0.050000   \n",
       "75%    4122.250000  44654.750000       38.000000   1648.850250     0.080000   \n",
       "max    5496.000000  59973.000000       50.000000  89061.050000     0.170000   \n",
       "\n",
       "             Profit   Unit.Price  Shipping.Cost  Product.Base.Margin  \\\n",
       "count   5496.000000  5496.000000    5496.000000          5496.000000   \n",
       "mean     200.483017    86.371683      12.789511             0.502640   \n",
       "std     1201.403204   274.638722      16.836484             0.133056   \n",
       "min   -14140.700000     0.990000       0.490000             0.240000   \n",
       "25%      -82.162500     6.480000       3.352500             0.380000   \n",
       "50%       -0.945000    20.970000       6.070000             0.490000   \n",
       "75%      163.390000    83.100000      14.000000             0.590000   \n",
       "max    27220.690000  6783.020000     164.730000             0.850000   \n",
       "\n",
       "       Return.Status  \n",
       "count    5496.000000  \n",
       "mean        0.104076  \n",
       "std         0.305386  \n",
       "min         0.000000  \n",
       "25%         0.000000  \n",
       "50%         0.000000  \n",
       "75%         0.000000  \n",
       "max         1.000000  "
      ]
     },
     "execution_count": 6,
     "metadata": {},
     "output_type": "execute_result"
    }
   ],
   "source": [
    "df.describe()"
   ]
  },
  {
   "cell_type": "code",
   "execution_count": 7,
   "metadata": {
    "execution": {
     "iopub.execute_input": "2020-12-05T15:25:05.726601Z",
     "iopub.status.busy": "2020-12-05T15:25:05.725774Z",
     "iopub.status.idle": "2020-12-05T15:25:05.741836Z",
     "shell.execute_reply": "2020-12-05T15:25:05.741052Z"
    },
    "papermill": {
     "duration": 0.246388,
     "end_time": "2020-12-05T15:25:05.741966",
     "exception": false,
     "start_time": "2020-12-05T15:25:05.495578",
     "status": "completed"
    },
    "tags": []
   },
   "outputs": [
    {
     "name": "stdout",
     "output_type": "stream",
     "text": [
      "<class 'pandas.core.frame.DataFrame'>\n",
      "RangeIndex: 5496 entries, 0 to 5495\n",
      "Data columns (total 19 columns):\n",
      " #   Column               Non-Null Count  Dtype  \n",
      "---  ------               --------------  -----  \n",
      " 0   Row.ID               5496 non-null   int64  \n",
      " 1   Order.ID             5496 non-null   int64  \n",
      " 2   Order.Date           5496 non-null   object \n",
      " 3   Ship.Date            5496 non-null   object \n",
      " 4   Order.Quantity       5496 non-null   int64  \n",
      " 5   Sales                5496 non-null   float64\n",
      " 6   Discount             5496 non-null   float64\n",
      " 7   Profit               5496 non-null   float64\n",
      " 8   Unit.Price           5496 non-null   float64\n",
      " 9   Shipping.Cost        5496 non-null   float64\n",
      " 10  Product.Base.Margin  5496 non-null   float64\n",
      " 11  Customer.Name        5496 non-null   object \n",
      " 12  Customer.Segment     5496 non-null   object \n",
      " 13  Product.Category     5496 non-null   object \n",
      " 14  Region               5496 non-null   object \n",
      " 15  Order.Priority       5496 non-null   object \n",
      " 16  Ship.Mode            5496 non-null   object \n",
      " 17  Product.Container    5496 non-null   object \n",
      " 18  Return.Status        5496 non-null   int64  \n",
      "dtypes: float64(6), int64(4), object(9)\n",
      "memory usage: 815.9+ KB\n"
     ]
    }
   ],
   "source": [
    "df.info()"
   ]
  },
  {
   "cell_type": "code",
   "execution_count": 8,
   "metadata": {
    "execution": {
     "iopub.execute_input": "2020-12-05T15:25:06.172429Z",
     "iopub.status.busy": "2020-12-05T15:25:06.171550Z",
     "iopub.status.idle": "2020-12-05T15:25:06.176428Z",
     "shell.execute_reply": "2020-12-05T15:25:06.175689Z"
    },
    "papermill": {
     "duration": 0.221133,
     "end_time": "2020-12-05T15:25:06.176574",
     "exception": false,
     "start_time": "2020-12-05T15:25:05.955441",
     "status": "completed"
    },
    "tags": []
   },
   "outputs": [
    {
     "data": {
      "text/plain": [
       "19"
      ]
     },
     "execution_count": 8,
     "metadata": {},
     "output_type": "execute_result"
    }
   ],
   "source": [
    "len(df.columns)"
   ]
  },
  {
   "cell_type": "code",
   "execution_count": 9,
   "metadata": {
    "execution": {
     "iopub.execute_input": "2020-12-05T15:25:06.668952Z",
     "iopub.status.busy": "2020-12-05T15:25:06.668091Z",
     "iopub.status.idle": "2020-12-05T15:25:06.676807Z",
     "shell.execute_reply": "2020-12-05T15:25:06.676027Z"
    },
    "papermill": {
     "duration": 0.240082,
     "end_time": "2020-12-05T15:25:06.676940",
     "exception": false,
     "start_time": "2020-12-05T15:25:06.436858",
     "status": "completed"
    },
    "tags": []
   },
   "outputs": [
    {
     "data": {
      "text/plain": [
       "Row.ID                 0\n",
       "Order.ID               0\n",
       "Order.Date             0\n",
       "Ship.Date              0\n",
       "Order.Quantity         0\n",
       "Sales                  0\n",
       "Discount               0\n",
       "Profit                 0\n",
       "Unit.Price             0\n",
       "Shipping.Cost          0\n",
       "Product.Base.Margin    0\n",
       "Customer.Name          0\n",
       "Customer.Segment       0\n",
       "Product.Category       0\n",
       "Region                 0\n",
       "Order.Priority         0\n",
       "Ship.Mode              0\n",
       "Product.Container      0\n",
       "Return.Status          0\n",
       "dtype: int64"
      ]
     },
     "execution_count": 9,
     "metadata": {},
     "output_type": "execute_result"
    }
   ],
   "source": [
    "df.isnull().sum()"
   ]
  },
  {
   "cell_type": "code",
   "execution_count": 10,
   "metadata": {
    "execution": {
     "iopub.execute_input": "2020-12-05T15:25:07.150435Z",
     "iopub.status.busy": "2020-12-05T15:25:07.149294Z",
     "iopub.status.idle": "2020-12-05T15:25:07.154646Z",
     "shell.execute_reply": "2020-12-05T15:25:07.153830Z"
    },
    "papermill": {
     "duration": 0.242051,
     "end_time": "2020-12-05T15:25:07.154789",
     "exception": false,
     "start_time": "2020-12-05T15:25:06.912738",
     "status": "completed"
    },
    "tags": []
   },
   "outputs": [
    {
     "data": {
      "text/plain": [
       "Row.ID                   int64\n",
       "Order.Quantity           int64\n",
       "Return.Status            int64\n",
       "Order.ID                 int64\n",
       "Sales                  float64\n",
       "Discount               float64\n",
       "Profit                 float64\n",
       "Unit.Price             float64\n",
       "Product.Base.Margin    float64\n",
       "Shipping.Cost          float64\n",
       "Ship.Date               object\n",
       "Product.Container       object\n",
       "Customer.Name           object\n",
       "Customer.Segment        object\n",
       "Product.Category        object\n",
       "Region                  object\n",
       "Order.Priority          object\n",
       "Ship.Mode               object\n",
       "Order.Date              object\n",
       "dtype: object"
      ]
     },
     "execution_count": 10,
     "metadata": {},
     "output_type": "execute_result"
    }
   ],
   "source": [
    "df.dtypes.sort_values()"
   ]
  },
  {
   "cell_type": "code",
   "execution_count": 11,
   "metadata": {
    "execution": {
     "iopub.execute_input": "2020-12-05T15:25:20.444427Z",
     "iopub.status.busy": "2020-12-05T15:25:20.443261Z",
     "iopub.status.idle": "2020-12-05T15:25:20.449127Z",
     "shell.execute_reply": "2020-12-05T15:25:20.448303Z"
    },
    "papermill": {
     "duration": 0.238712,
     "end_time": "2020-12-05T15:25:20.449312",
     "exception": false,
     "start_time": "2020-12-05T15:25:20.210600",
     "status": "completed"
    },
    "tags": []
   },
   "outputs": [
    {
     "data": {
      "text/plain": [
       "795"
      ]
     },
     "execution_count": 11,
     "metadata": {},
     "output_type": "execute_result"
    }
   ],
   "source": [
    "df['Customer.Name'].nunique()"
   ]
  },
  {
   "cell_type": "code",
   "execution_count": 12,
   "metadata": {
    "execution": {
     "iopub.execute_input": "2020-12-05T15:25:20.444427Z",
     "iopub.status.busy": "2020-12-05T15:25:20.443261Z",
     "iopub.status.idle": "2020-12-05T15:25:20.449127Z",
     "shell.execute_reply": "2020-12-05T15:25:20.448303Z"
    },
    "papermill": {
     "duration": 0.238712,
     "end_time": "2020-12-05T15:25:20.449312",
     "exception": false,
     "start_time": "2020-12-05T15:25:20.210600",
     "status": "completed"
    },
    "tags": []
   },
   "outputs": [
    {
     "data": {
      "text/plain": [
       "High             1134\n",
       "Low              1119\n",
       "Critical         1088\n",
       "Not Specified    1080\n",
       "Medium           1075\n",
       "Name: Order.Priority, dtype: int64"
      ]
     },
     "execution_count": 12,
     "metadata": {},
     "output_type": "execute_result"
    }
   ],
   "source": [
    "df['Order.Priority'].value_counts()"
   ]
  },
  {
   "cell_type": "code",
   "execution_count": 13,
   "metadata": {
    "execution": {
     "iopub.execute_input": "2020-12-05T15:25:20.444427Z",
     "iopub.status.busy": "2020-12-05T15:25:20.443261Z",
     "iopub.status.idle": "2020-12-05T15:25:20.449127Z",
     "shell.execute_reply": "2020-12-05T15:25:20.448303Z"
    },
    "papermill": {
     "duration": 0.238712,
     "end_time": "2020-12-05T15:25:20.449312",
     "exception": false,
     "start_time": "2020-12-05T15:25:20.210600",
     "status": "completed"
    },
    "tags": []
   },
   "outputs": [
    {
     "data": {
      "text/plain": [
       "Regular Air       4073\n",
       "Delivery Truck     773\n",
       "Express Air        650\n",
       "Name: Ship.Mode, dtype: int64"
      ]
     },
     "execution_count": 13,
     "metadata": {},
     "output_type": "execute_result"
    }
   ],
   "source": [
    "df['Ship.Mode'].value_counts()"
   ]
  },
  {
   "cell_type": "code",
   "execution_count": 14,
   "metadata": {
    "execution": {
     "iopub.execute_input": "2020-12-05T15:25:20.444427Z",
     "iopub.status.busy": "2020-12-05T15:25:20.443261Z",
     "iopub.status.idle": "2020-12-05T15:25:20.449127Z",
     "shell.execute_reply": "2020-12-05T15:25:20.448303Z"
    },
    "papermill": {
     "duration": 0.238712,
     "end_time": "2020-12-05T15:25:20.449312",
     "exception": false,
     "start_time": "2020-12-05T15:25:20.210600",
     "status": "completed"
    },
    "tags": []
   },
   "outputs": [
    {
     "data": {
      "text/plain": [
       "West                     1277\n",
       "Ontario                  1175\n",
       "Prarie                   1111\n",
       "Atlantic                  726\n",
       "Quebec                    510\n",
       "Yukon                     373\n",
       "Northwest Territories     268\n",
       "Nunavut                    56\n",
       "Name: Region, dtype: int64"
      ]
     },
     "execution_count": 14,
     "metadata": {},
     "output_type": "execute_result"
    }
   ],
   "source": [
    "df['Region'].value_counts()"
   ]
  },
  {
   "cell_type": "code",
   "execution_count": 15,
   "metadata": {
    "execution": {
     "iopub.execute_input": "2020-12-05T15:25:20.444427Z",
     "iopub.status.busy": "2020-12-05T15:25:20.443261Z",
     "iopub.status.idle": "2020-12-05T15:25:20.449127Z",
     "shell.execute_reply": "2020-12-05T15:25:20.448303Z"
    },
    "papermill": {
     "duration": 0.238712,
     "end_time": "2020-12-05T15:25:20.449312",
     "exception": false,
     "start_time": "2020-12-05T15:25:20.210600",
     "status": "completed"
    },
    "tags": []
   },
   "outputs": [
    {
     "data": {
      "text/plain": [
       "Office Supplies    3063\n",
       "Technology         1280\n",
       "Furniture          1153\n",
       "Name: Product.Category, dtype: int64"
      ]
     },
     "execution_count": 15,
     "metadata": {},
     "output_type": "execute_result"
    }
   ],
   "source": [
    "df['Product.Category'].value_counts()"
   ]
  },
  {
   "cell_type": "code",
   "execution_count": 16,
   "metadata": {
    "execution": {
     "iopub.execute_input": "2020-12-05T15:25:20.444427Z",
     "iopub.status.busy": "2020-12-05T15:25:20.443261Z",
     "iopub.status.idle": "2020-12-05T15:25:20.449127Z",
     "shell.execute_reply": "2020-12-05T15:25:20.448303Z"
    },
    "papermill": {
     "duration": 0.238712,
     "end_time": "2020-12-05T15:25:20.449312",
     "exception": false,
     "start_time": "2020-12-05T15:25:20.210600",
     "status": "completed"
    },
    "tags": []
   },
   "outputs": [
    {
     "data": {
      "text/plain": [
       "Small Box     2893\n",
       "Wrap Bag       682\n",
       "Small Pack     632\n",
       "Jumbo Drum     453\n",
       "Jumbo Box      326\n",
       "Large Box      263\n",
       "Medium Box     247\n",
       "Name: Product.Container, dtype: int64"
      ]
     },
     "execution_count": 16,
     "metadata": {},
     "output_type": "execute_result"
    }
   ],
   "source": [
    "df['Product.Container'].value_counts()"
   ]
  },
  {
   "cell_type": "code",
   "execution_count": 17,
   "metadata": {
    "execution": {
     "iopub.execute_input": "2020-12-05T15:25:20.444427Z",
     "iopub.status.busy": "2020-12-05T15:25:20.443261Z",
     "iopub.status.idle": "2020-12-05T15:25:20.449127Z",
     "shell.execute_reply": "2020-12-05T15:25:20.448303Z"
    },
    "papermill": {
     "duration": 0.238712,
     "end_time": "2020-12-05T15:25:20.449312",
     "exception": false,
     "start_time": "2020-12-05T15:25:20.210600",
     "status": "completed"
    },
    "tags": []
   },
   "outputs": [
    {
     "data": {
      "text/plain": [
       "Corporate         2002\n",
       "Home Office       1341\n",
       "Small Business    1077\n",
       "Consumer          1076\n",
       "Name: Customer.Segment, dtype: int64"
      ]
     },
     "execution_count": 17,
     "metadata": {},
     "output_type": "execute_result"
    }
   ],
   "source": [
    "df['Customer.Segment'].value_counts()"
   ]
  },
  {
   "attachments": {},
   "cell_type": "markdown",
   "metadata": {},
   "source": [
    "## Data level Check\n",
    "### we expect that the Data is at Order.ID level\n",
    "\n",
    "there are no entries that duplicate on the level of the data"
   ]
  },
  {
   "cell_type": "code",
   "execution_count": 18,
   "metadata": {},
   "outputs": [
    {
     "data": {
      "text/plain": [
       "1    5496\n",
       "Name: Row.ID, dtype: int64"
      ]
     },
     "execution_count": 18,
     "metadata": {},
     "output_type": "execute_result"
    }
   ],
   "source": [
    "df.groupby(['Order.ID'])['Row.ID'].count().value_counts()"
   ]
  },
  {
   "attachments": {},
   "cell_type": "markdown",
   "metadata": {},
   "source": [
    "___"
   ]
  },
  {
   "cell_type": "code",
   "execution_count": 19,
   "metadata": {},
   "outputs": [
    {
     "data": {
      "text/html": [
       "<div>\n",
       "<style scoped>\n",
       "    .dataframe tbody tr th:only-of-type {\n",
       "        vertical-align: middle;\n",
       "    }\n",
       "\n",
       "    .dataframe tbody tr th {\n",
       "        vertical-align: top;\n",
       "    }\n",
       "\n",
       "    .dataframe thead th {\n",
       "        text-align: right;\n",
       "    }\n",
       "</style>\n",
       "<table border=\"1\" class=\"dataframe\">\n",
       "  <thead>\n",
       "    <tr style=\"text-align: right;\">\n",
       "      <th></th>\n",
       "      <th>Row.ID</th>\n",
       "      <th>Order.ID</th>\n",
       "      <th>Order.Date</th>\n",
       "      <th>Ship.Date</th>\n",
       "      <th>Order.Quantity</th>\n",
       "      <th>Sales</th>\n",
       "      <th>Discount</th>\n",
       "      <th>Profit</th>\n",
       "      <th>Unit.Price</th>\n",
       "      <th>Shipping.Cost</th>\n",
       "      <th>Product.Base.Margin</th>\n",
       "      <th>Customer.Name</th>\n",
       "      <th>Customer.Segment</th>\n",
       "      <th>Product.Category</th>\n",
       "      <th>Region</th>\n",
       "      <th>Order.Priority</th>\n",
       "      <th>Ship.Mode</th>\n",
       "      <th>Product.Container</th>\n",
       "      <th>Return.Status</th>\n",
       "    </tr>\n",
       "  </thead>\n",
       "  <tbody>\n",
       "    <tr>\n",
       "      <th>0</th>\n",
       "      <td>1</td>\n",
       "      <td>3</td>\n",
       "      <td>13-10-2010</td>\n",
       "      <td>20-10-2010</td>\n",
       "      <td>6</td>\n",
       "      <td>261.5400</td>\n",
       "      <td>0.04</td>\n",
       "      <td>-213.25</td>\n",
       "      <td>38.94</td>\n",
       "      <td>35.00</td>\n",
       "      <td>0.80</td>\n",
       "      <td>Muhammed MacIntyre</td>\n",
       "      <td>Small Business</td>\n",
       "      <td>Office Supplies</td>\n",
       "      <td>Nunavut</td>\n",
       "      <td>Low</td>\n",
       "      <td>Regular Air</td>\n",
       "      <td>Large Box</td>\n",
       "      <td>0</td>\n",
       "    </tr>\n",
       "    <tr>\n",
       "      <th>1</th>\n",
       "      <td>2</td>\n",
       "      <td>293</td>\n",
       "      <td>01-10-2012</td>\n",
       "      <td>02-10-2012</td>\n",
       "      <td>49</td>\n",
       "      <td>10123.0200</td>\n",
       "      <td>0.07</td>\n",
       "      <td>457.81</td>\n",
       "      <td>208.16</td>\n",
       "      <td>68.02</td>\n",
       "      <td>0.58</td>\n",
       "      <td>Barry French</td>\n",
       "      <td>Consumer</td>\n",
       "      <td>Office Supplies</td>\n",
       "      <td>Nunavut</td>\n",
       "      <td>High</td>\n",
       "      <td>Delivery Truck</td>\n",
       "      <td>Jumbo Drum</td>\n",
       "      <td>0</td>\n",
       "    </tr>\n",
       "    <tr>\n",
       "      <th>2</th>\n",
       "      <td>3</td>\n",
       "      <td>483</td>\n",
       "      <td>10-07-2011</td>\n",
       "      <td>12-07-2011</td>\n",
       "      <td>30</td>\n",
       "      <td>4965.7595</td>\n",
       "      <td>0.08</td>\n",
       "      <td>1198.97</td>\n",
       "      <td>195.99</td>\n",
       "      <td>3.99</td>\n",
       "      <td>0.58</td>\n",
       "      <td>Clay Rozendal</td>\n",
       "      <td>Corporate</td>\n",
       "      <td>Technology</td>\n",
       "      <td>Nunavut</td>\n",
       "      <td>High</td>\n",
       "      <td>Regular Air</td>\n",
       "      <td>Small Box</td>\n",
       "      <td>0</td>\n",
       "    </tr>\n",
       "    <tr>\n",
       "      <th>3</th>\n",
       "      <td>4</td>\n",
       "      <td>515</td>\n",
       "      <td>28-08-2010</td>\n",
       "      <td>30-08-2010</td>\n",
       "      <td>19</td>\n",
       "      <td>394.2700</td>\n",
       "      <td>0.08</td>\n",
       "      <td>30.94</td>\n",
       "      <td>21.78</td>\n",
       "      <td>5.94</td>\n",
       "      <td>0.50</td>\n",
       "      <td>Carlos Soltero</td>\n",
       "      <td>Consumer</td>\n",
       "      <td>Office Supplies</td>\n",
       "      <td>Nunavut</td>\n",
       "      <td>Not Specified</td>\n",
       "      <td>Regular Air</td>\n",
       "      <td>Medium Box</td>\n",
       "      <td>0</td>\n",
       "    </tr>\n",
       "    <tr>\n",
       "      <th>4</th>\n",
       "      <td>5</td>\n",
       "      <td>613</td>\n",
       "      <td>17-06-2011</td>\n",
       "      <td>17-06-2011</td>\n",
       "      <td>12</td>\n",
       "      <td>93.5400</td>\n",
       "      <td>0.03</td>\n",
       "      <td>-54.04</td>\n",
       "      <td>7.30</td>\n",
       "      <td>7.72</td>\n",
       "      <td>0.38</td>\n",
       "      <td>Carl Jackson</td>\n",
       "      <td>Corporate</td>\n",
       "      <td>Office Supplies</td>\n",
       "      <td>Nunavut</td>\n",
       "      <td>High</td>\n",
       "      <td>Regular Air</td>\n",
       "      <td>Small Box</td>\n",
       "      <td>0</td>\n",
       "    </tr>\n",
       "    <tr>\n",
       "      <th>...</th>\n",
       "      <td>...</td>\n",
       "      <td>...</td>\n",
       "      <td>...</td>\n",
       "      <td>...</td>\n",
       "      <td>...</td>\n",
       "      <td>...</td>\n",
       "      <td>...</td>\n",
       "      <td>...</td>\n",
       "      <td>...</td>\n",
       "      <td>...</td>\n",
       "      <td>...</td>\n",
       "      <td>...</td>\n",
       "      <td>...</td>\n",
       "      <td>...</td>\n",
       "      <td>...</td>\n",
       "      <td>...</td>\n",
       "      <td>...</td>\n",
       "      <td>...</td>\n",
       "      <td>...</td>\n",
       "    </tr>\n",
       "    <tr>\n",
       "      <th>5491</th>\n",
       "      <td>5492</td>\n",
       "      <td>47360</td>\n",
       "      <td>08-10-2010</td>\n",
       "      <td>10-10-2010</td>\n",
       "      <td>25</td>\n",
       "      <td>2200.6400</td>\n",
       "      <td>0.05</td>\n",
       "      <td>-514.18</td>\n",
       "      <td>89.99</td>\n",
       "      <td>42.00</td>\n",
       "      <td>0.66</td>\n",
       "      <td>Frank Hawley</td>\n",
       "      <td>Home Office</td>\n",
       "      <td>Furniture</td>\n",
       "      <td>West</td>\n",
       "      <td>Not Specified</td>\n",
       "      <td>Delivery Truck</td>\n",
       "      <td>Jumbo Drum</td>\n",
       "      <td>0</td>\n",
       "    </tr>\n",
       "    <tr>\n",
       "      <th>5492</th>\n",
       "      <td>5493</td>\n",
       "      <td>52706</td>\n",
       "      <td>09-07-2012</td>\n",
       "      <td>16-07-2012</td>\n",
       "      <td>34</td>\n",
       "      <td>1041.6600</td>\n",
       "      <td>0.02</td>\n",
       "      <td>480.53</td>\n",
       "      <td>28.53</td>\n",
       "      <td>1.49</td>\n",
       "      <td>0.38</td>\n",
       "      <td>Harry Greene</td>\n",
       "      <td>Corporate</td>\n",
       "      <td>Office Supplies</td>\n",
       "      <td>West</td>\n",
       "      <td>Low</td>\n",
       "      <td>Express Air</td>\n",
       "      <td>Small Box</td>\n",
       "      <td>0</td>\n",
       "    </tr>\n",
       "    <tr>\n",
       "      <th>5493</th>\n",
       "      <td>5494</td>\n",
       "      <td>54279</td>\n",
       "      <td>30-07-2011</td>\n",
       "      <td>31-07-2011</td>\n",
       "      <td>41</td>\n",
       "      <td>10071.0900</td>\n",
       "      <td>0.10</td>\n",
       "      <td>1977.69</td>\n",
       "      <td>264.98</td>\n",
       "      <td>17.86</td>\n",
       "      <td>0.58</td>\n",
       "      <td>Harry Greene</td>\n",
       "      <td>Corporate</td>\n",
       "      <td>Technology</td>\n",
       "      <td>West</td>\n",
       "      <td>High</td>\n",
       "      <td>Delivery Truck</td>\n",
       "      <td>Jumbo Drum</td>\n",
       "      <td>0</td>\n",
       "    </tr>\n",
       "    <tr>\n",
       "      <th>5494</th>\n",
       "      <td>5495</td>\n",
       "      <td>55558</td>\n",
       "      <td>09-08-2010</td>\n",
       "      <td>09-08-2010</td>\n",
       "      <td>8</td>\n",
       "      <td>1294.0400</td>\n",
       "      <td>0.05</td>\n",
       "      <td>-323.18</td>\n",
       "      <td>150.98</td>\n",
       "      <td>66.27</td>\n",
       "      <td>0.65</td>\n",
       "      <td>Mick Brown</td>\n",
       "      <td>Consumer</td>\n",
       "      <td>Furniture</td>\n",
       "      <td>West</td>\n",
       "      <td>Medium</td>\n",
       "      <td>Delivery Truck</td>\n",
       "      <td>Jumbo Box</td>\n",
       "      <td>0</td>\n",
       "    </tr>\n",
       "    <tr>\n",
       "      <th>5495</th>\n",
       "      <td>5496</td>\n",
       "      <td>56581</td>\n",
       "      <td>08-02-2009</td>\n",
       "      <td>11-02-2009</td>\n",
       "      <td>20</td>\n",
       "      <td>2026.0100</td>\n",
       "      <td>0.10</td>\n",
       "      <td>580.43</td>\n",
       "      <td>105.98</td>\n",
       "      <td>13.99</td>\n",
       "      <td>0.65</td>\n",
       "      <td>Grant Donatelli</td>\n",
       "      <td>Consumer</td>\n",
       "      <td>Furniture</td>\n",
       "      <td>West</td>\n",
       "      <td>High</td>\n",
       "      <td>Express Air</td>\n",
       "      <td>Medium Box</td>\n",
       "      <td>0</td>\n",
       "    </tr>\n",
       "  </tbody>\n",
       "</table>\n",
       "<p>5496 rows × 19 columns</p>\n",
       "</div>"
      ],
      "text/plain": [
       "      Row.ID  Order.ID  Order.Date   Ship.Date  Order.Quantity       Sales  \\\n",
       "0          1         3  13-10-2010  20-10-2010               6    261.5400   \n",
       "1          2       293  01-10-2012  02-10-2012              49  10123.0200   \n",
       "2          3       483  10-07-2011  12-07-2011              30   4965.7595   \n",
       "3          4       515  28-08-2010  30-08-2010              19    394.2700   \n",
       "4          5       613  17-06-2011  17-06-2011              12     93.5400   \n",
       "...      ...       ...         ...         ...             ...         ...   \n",
       "5491    5492     47360  08-10-2010  10-10-2010              25   2200.6400   \n",
       "5492    5493     52706  09-07-2012  16-07-2012              34   1041.6600   \n",
       "5493    5494     54279  30-07-2011  31-07-2011              41  10071.0900   \n",
       "5494    5495     55558  09-08-2010  09-08-2010               8   1294.0400   \n",
       "5495    5496     56581  08-02-2009  11-02-2009              20   2026.0100   \n",
       "\n",
       "      Discount   Profit  Unit.Price  Shipping.Cost  Product.Base.Margin  \\\n",
       "0         0.04  -213.25       38.94          35.00                 0.80   \n",
       "1         0.07   457.81      208.16          68.02                 0.58   \n",
       "2         0.08  1198.97      195.99           3.99                 0.58   \n",
       "3         0.08    30.94       21.78           5.94                 0.50   \n",
       "4         0.03   -54.04        7.30           7.72                 0.38   \n",
       "...        ...      ...         ...            ...                  ...   \n",
       "5491      0.05  -514.18       89.99          42.00                 0.66   \n",
       "5492      0.02   480.53       28.53           1.49                 0.38   \n",
       "5493      0.10  1977.69      264.98          17.86                 0.58   \n",
       "5494      0.05  -323.18      150.98          66.27                 0.65   \n",
       "5495      0.10   580.43      105.98          13.99                 0.65   \n",
       "\n",
       "           Customer.Name Customer.Segment Product.Category   Region  \\\n",
       "0     Muhammed MacIntyre   Small Business  Office Supplies  Nunavut   \n",
       "1           Barry French         Consumer  Office Supplies  Nunavut   \n",
       "2          Clay Rozendal        Corporate       Technology  Nunavut   \n",
       "3         Carlos Soltero         Consumer  Office Supplies  Nunavut   \n",
       "4           Carl Jackson        Corporate  Office Supplies  Nunavut   \n",
       "...                  ...              ...              ...      ...   \n",
       "5491        Frank Hawley      Home Office        Furniture     West   \n",
       "5492        Harry Greene        Corporate  Office Supplies     West   \n",
       "5493        Harry Greene        Corporate       Technology     West   \n",
       "5494          Mick Brown         Consumer        Furniture     West   \n",
       "5495     Grant Donatelli         Consumer        Furniture     West   \n",
       "\n",
       "     Order.Priority       Ship.Mode Product.Container  Return.Status  \n",
       "0               Low     Regular Air         Large Box              0  \n",
       "1              High  Delivery Truck        Jumbo Drum              0  \n",
       "2              High     Regular Air         Small Box              0  \n",
       "3     Not Specified     Regular Air        Medium Box              0  \n",
       "4              High     Regular Air         Small Box              0  \n",
       "...             ...             ...               ...            ...  \n",
       "5491  Not Specified  Delivery Truck        Jumbo Drum              0  \n",
       "5492            Low     Express Air         Small Box              0  \n",
       "5493           High  Delivery Truck        Jumbo Drum              0  \n",
       "5494         Medium  Delivery Truck         Jumbo Box              0  \n",
       "5495           High     Express Air        Medium Box              0  \n",
       "\n",
       "[5496 rows x 19 columns]"
      ]
     },
     "execution_count": 19,
     "metadata": {},
     "output_type": "execute_result"
    }
   ],
   "source": [
    "df"
   ]
  },
  {
   "cell_type": "code",
   "execution_count": null,
   "metadata": {},
   "outputs": [],
   "source": [
    "df.columns.tolist()"
   ]
  }
 ],
 "metadata": {
  "kernelspec": {
   "display_name": "base",
   "language": "python",
   "name": "python3"
  },
  "language_info": {
   "codemirror_mode": {
    "name": "ipython",
    "version": 3
   },
   "file_extension": ".py",
   "mimetype": "text/x-python",
   "name": "python",
   "nbconvert_exporter": "python",
   "pygments_lexer": "ipython3",
   "version": "3.9.5"
  },
  "orig_nbformat": 4,
  "vscode": {
   "interpreter": {
    "hash": "555074907bc7529161e65d4b41f593ff0f1fdafd7b1e6b472bfcf1f0057afdef"
   }
  }
 },
 "nbformat": 4,
 "nbformat_minor": 2
}
